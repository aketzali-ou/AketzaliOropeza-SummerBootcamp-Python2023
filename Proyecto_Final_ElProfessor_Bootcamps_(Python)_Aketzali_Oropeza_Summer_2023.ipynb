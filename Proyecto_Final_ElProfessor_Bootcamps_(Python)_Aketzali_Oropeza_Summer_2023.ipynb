{
  "nbformat": 4,
  "nbformat_minor": 0,
  "metadata": {
    "colab": {
      "provenance": []
    },
    "kernelspec": {
      "name": "python3",
      "display_name": "Python 3"
    },
    "language_info": {
      "name": "python"
    }
  },
  "cells": [
    {
      "cell_type": "markdown",
      "source": [
        "*ElProfessor Bootcamps (Python) - Summer 2023 - Aketzali Oropeza Urbano*\n",
        "\n",
        "PROYECTO FINAL: **“Calculadora de Punnett para grupos sanguíneos”**"
      ],
      "metadata": {
        "id": "iDQq4QVD8_gB"
      }
    },
    {
      "cell_type": "markdown",
      "source": [
        "**Objetivo**\n",
        "\n",
        "Realizar un programa con las  siguientes opciones:\n",
        "\n",
        "\n",
        "1.   Cálculo de las posibles combinaciones alélicas y despliegue de los posibles grupos sanguíneos en la descendencia a partir de los grupos sanguíneos de ambos padres (antígenos y Rh) introducidos por el usuario.\n",
        "2.   Listado de posibles receptores y donadores para un grupo sanguíneo, introducido por el usuario, basándose en la compatibilidad de antígenos, anticuerpos y Rh."
      ],
      "metadata": {
        "id": "lgfvBRu_SBw-"
      }
    },
    {
      "cell_type": "markdown",
      "source": [
        "**¿Qué es el cuadro de Punnett?**\n",
        "El cuadro de Punnett es una herramienta gráfica propia de los biólogos y genetistas que sirve para conocer las posibles combinaciones de alelos que puede producir un gameto, y de esta manera identificar las proporciones, tanto genotípicas como fenotípicas, en la descendencia [1].\n",
        "\n",
        "Se presenta en forma de esquema con los alelos presentes en los gametos de uno de los individuos parentales en el lado izquierdo y, en la parte superior, los del otro individuo parental tal como se muestra en la siguiente  imagen [1].\n",
        "\n",
        "![ProyectoPython_1.jpg](data:image/jpeg;base64,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)"
      ],
      "metadata": {
        "id": "g8NVqKTG-TPX"
      }
    },
    {
      "cell_type": "markdown",
      "source": [
        "**Justificación**\n",
        "\n",
        "De acuerdo con un sondeo realizado por CBS News en 2020, sólo el 66 % de los estadounidenses afirman conocer su grupo sanguíneo [2].\n",
        "Aunque en México no hay registros de un sondeo similar, el Instituto Mexicano del Seguro Social (IMSS) recomienda a los mexicanos conocer su grupo sanguíneo como prevención ante una emergencia ya que las transfusiones accidentales incompatibles, aunque son algo raro, pueden ser peligrosas [3].\n",
        "Asimismo, una mujer con Rh negativo se puede exponer a la incompatibilidad de Rh durante el embarazo cuando el feto tiene sangre Rh positiva. Si esta incompatibilidad no se detecta y trata a tiempo,  el cuerpo de la madre crea anticuerpos contra la proteína Rh poniendo en riesgo su salud y la del feto [4]."
      ],
      "metadata": {
        "id": "1BHQHYXnGF4m"
      }
    },
    {
      "cell_type": "code",
      "execution_count": 4,
      "metadata": {
        "id": "WshDWT6reLDU",
        "colab": {
          "base_uri": "https://localhost:8080/"
        },
        "outputId": "11deeb02-60bf-4b17-d312-748388ff98df"
      },
      "outputs": [
        {
          "output_type": "stream",
          "name": "stdout",
          "text": [
            "\u001b[1mBIENVENIDO AL PROGRAMA DE GRUPOS SANGUÍNEOS\n",
            "\n",
            "Los grupos sanguíneos válidos para este programa son:\n",
            "1) AA+\n",
            "2) AA-\n",
            "3) AO+\n",
            "4) AO-\n",
            "5) BO+\n",
            "6) BO-\n",
            "7) BB+\n",
            "8) BB-\n",
            "9) AB+\n",
            "10) AB-\n",
            "11) OO+\n",
            "12) OO-\n",
            "\n",
            "\u001b[1mMENÚ\n",
            "1) Cuadro de Punnet para grupos sanguíneos\n",
            "2) Descubre posibles donadores y receptores\n",
            "3) Salir\n",
            "\n",
            "Presione la opción deseada: 1\n",
            "\n",
            "\u001b[1mCUADRO DE PUNNET PARA TIPOS SANGUÍNEOS\n",
            "\n",
            "Introduce el grupo sanguíneo del padre: AB+\n",
            "Grupo sanguíneo válido.\n",
            "\n",
            "Introduce el grupo sanguíneo de la madre: BB-\n",
            "Grupo sanguíneo válido.\n",
            "\n",
            "\u001b[1mCUADRO DE PUNNET\n",
            "\t   \t A \t   \t B \t   \n",
            "\t B \t A \t B \t B \t B \n",
            "\t B \t A \t B \t B \t B \n",
            "\n",
            "Los posibles grupos sanguíneos de la descendencia son:\n",
            "* AB+\n",
            "* AB+\n",
            "* BB+\n",
            "* BB+\n"
          ]
        }
      ],
      "source": [
        "#Calculadora de Punnett para grupos sanguíneos\n",
        "\n",
        "import numpy as np\n",
        "import pandas as pd\n",
        "\n",
        "def validacion_tipo_sanguineo (m1): #¿Se puede hacer la validación con menos código?\n",
        "  n=0\n",
        "  while n==0:\n",
        "    if len(m1)<=3:\n",
        "      if m1[0].upper()==\"A\" or m1[0].upper()==\"B\" or m1[0].upper()==\"O\":\n",
        "        if m1[1].upper()==\"A\" or m1[1].upper()==\"B\" or m1[1].upper()==\"O\":\n",
        "          if m1[2].upper()==\"+\" or m1[2].upper()==\"-\":\n",
        "            print (\"Grupo sanguíneo válido.\")\n",
        "            n=n+1\n",
        "          else:\n",
        "            m1=input(\"Este grupo sanguíneo NO es válido. Intenta de nuevo. \")\n",
        "        else:\n",
        "          m1=input(\"Este grupo sanguíneo NO es válido. Intenta de nuevo. \")\n",
        "      else:\n",
        "        m1=input(\"Este grupo sanguíneo NO es válido. Intenta de nuevo. \")\n",
        "    else:\n",
        "        m1=input(\"Este grupo sanguíneo NO es válido. Intenta de nuevo. \")\n",
        "\n",
        "def cuadro_punnett (muestra_1, muestra_2):\n",
        "  matriz_punnett=[[\" \",muestra_1[0].upper(),\" \",muestra_1[1].upper(),\" \"],\n",
        "                 [muestra_2[0].upper(),muestra_1[0].upper(),muestra_2[0].upper(),muestra_1[1].upper(), muestra_2[0].upper()],\n",
        "                 [muestra_2[1].upper(),muestra_1[0].upper(),muestra_2[1].upper(),muestra_1[1].upper(), muestra_2[1].upper()]]\n",
        "  return matriz_punnett\n",
        "\n",
        "def grupos_sanguineos_descendecia (muestra_1, muestra_2):\n",
        "  if muestra_1[2]==muestra_2[2]:\n",
        "    Rh=muestra_1[2]\n",
        "  else:\n",
        "    Rh=\"+\"\n",
        "  print(\"Los posibles grupos sanguíneos de la descendencia son:\")\n",
        "  print (f\"* {muestra_1[0].upper()}{muestra_2[0].upper()}{Rh}\\n* {muestra_1[0].upper()}{muestra_2[1].upper()}{Rh}\")\n",
        "  print (f\"* {muestra_1[1].upper()}{muestra_2[0].upper()}{Rh}\\n* {muestra_1[1].upper()}{muestra_2[1].upper()}{Rh}\")\n",
        "\n",
        "def donadores (muestra_sangre):\n",
        "  if muestra_sangre.upper() == \"OO-\":\n",
        "    print (\"ERES DONADOR UNIVERSAL. Puedes donar sangre a:\\n* A+\\n* A-\\n* B+\\n* B-\\n* AB+\\n* AB-\\n* O+\\n* O-\\n\")\n",
        "    print (\"Puedes recibir sangre de: \\n* O-\")\n",
        "  elif muestra_sangre.upper() == \"OO+\":\n",
        "    print (\"Puedes donar sangre a:\\n* A+\\n* B+\\n* AB+\\n* O+\\n\")\n",
        "    print (\"Puedes recibir sangre de: \\n* O-\\n* O+\")\n",
        "  elif muestra_sangre.upper() == \"AO-\":\n",
        "    print (\"Puedes donar sangre a:\\n* A+\\n* A-\\n* AB+\\n* AB-\\n\")\n",
        "    print (\"Puedes recibir sangre de: \\n* A-\\n* O-\")\n",
        "  elif muestra_sangre.upper() == \"AO+\":\n",
        "    print (\"Puedes donar sangre a:\\n* A+\\n* AB+\\n\")\n",
        "    print (\"Puedes recibir sangre de: \\n* A+\\n* A-\\n* O+\\n* O-\")\n",
        "  elif muestra_sangre.upper() == \"BO-\":\n",
        "    print (\"Puedes donar sangre a:\\n* B+\\n* B-\\n* AB+\\n* AB-\\n\")\n",
        "    print (\"Puedes recibir sangre de: \\n* B-\\n* O-\")\n",
        "  elif muestra_sangre.upper() == \"BO+\":\n",
        "    print (\"Puedes donar sangre a:\\n* B+\\n* AB+\\n\")\n",
        "    print (\"Puedes recibir sangre de: \\n* B+\\n* B-\\n* O+\\n* O-\")\n",
        "  elif muestra_sangre.upper() == \"AB-\":\n",
        "    print (\"Puedes donar sangre a:\\n* AB+\\n* AB-\\n\")\n",
        "    print (\"Puedes recibir sangre de: \\n* A-\\n* B-\\n* AB-\\n* O-\")\n",
        "  elif muestra_sangre.upper() == \"AB+\":\n",
        "    print (\"Puedes donar sangre a:\\n* AB+\\n\")\n",
        "    print (\"ERES RECEPTOR UNIVERSAL. Puedes recibir sangre de:\\n* A+\\n* A-\\n* B+\\n* B-\\n* AB+\\n* AB-\\n* O+\\n* O-\")\n",
        "\n",
        "def mostrar(matriz): #¿Cómo puedo desplegar el cuadro de Punnet con Pandas?\n",
        "    for fila in matriz:\n",
        "        for valor in fila:\n",
        "            print(\"\\t\", valor, end=\" \")\n",
        "        print()\n",
        "\n",
        "\n",
        "print (\"\\033[1m\" + \"BIENVENIDO AL PROGRAMA DE GRUPOS SANGUÍNEOS\\n\")\n",
        "print (\"Los grupos sanguíneos válidos para este programa son:\\n1) AA+\\n2) AA-\\n3) AO+\\n4) AO-\\n5) BO+\\n6) BO-\")\n",
        "print (\"7) BB+\\n8) BB-\\n9) AB+\\n10) AB-\\n11) OO+\\n12) OO-\\n\")\n",
        "\n",
        "print (\"\\033[1m\" + \"MENÚ\")\n",
        "print (\"1) Cuadro de Punnet para grupos sanguíneos\\n2) Descubre posibles donadores y receptores\\n3) Salir\\n\")\n",
        "opcion_usuario=int(input(\"Presione la opción deseada: \"))\n",
        "print(\"\")\n",
        "\n",
        "n=0\n",
        "while n==0:\n",
        "  if opcion_usuario == 1:\n",
        "    n=n+1\n",
        "    print(\"\\033[1m\" + \"CUADRO DE PUNNET PARA TIPOS SANGUÍNEOS\")\n",
        "    print(\"\")\n",
        "    muestra_padre=input(\"Introduce el grupo sanguíneo del padre: \")\n",
        "    validacion_tipo_sanguineo(muestra_padre)\n",
        "    print(\"\")\n",
        "    muestra_madre=input(\"Introduce el grupo sanguíneo de la madre: \")\n",
        "    validacion_tipo_sanguineo(muestra_madre)\n",
        "    print(\"\")\n",
        "    print(\"\\033[1m\" + \"CUADRO DE PUNNET\")\n",
        "    mostrar(cuadro_punnett(muestra_padre,muestra_madre))\n",
        "    print(\"\")\n",
        "    grupos_sanguineos_descendecia(muestra_padre,muestra_madre)\n",
        "  elif opcion_usuario == 2:\n",
        "    n=n+1\n",
        "    print(\"\\033[1m\" + \"DESCUBRE POSIBLES DONADORES Y RECEPTORES\")\n",
        "    muestra_usuario=input(\"Introduce un grupo sanguíneo: \")\n",
        "    validacion_tipo_sanguineo(muestra_usuario)\n",
        "    print(\"\")\n",
        "    donadores(muestra_usuario)\n",
        "  elif opcion_usuario == 3:\n",
        "    n=n+1\n",
        "    print(\"\")\n",
        "    print (\"Has salido del programa. ¡GRACIAS! :)\")\n",
        "  else:\n",
        "    opcion_usuario=int(input(\"OPCIÓN NO VALIDA. Intenta de nuevo. \"))"
      ]
    },
    {
      "cell_type": "markdown",
      "source": [
        "**REFERENCIAS**\n",
        "\n",
        "[1] https://www.elgencurioso.com/diccionario/cuadro-de-punnett/\n",
        "\n",
        "[2] https://edition.cnn.com/2020/07/18/health/how-to-find-blood-type-wellness/index.html#:~:text=In%20fact%2C%20only%2062%25%20of%20Americans%20reported%20knowing,are%20simple%20but%20accurate%20ways%20to%20find%20out.\n",
        "\n",
        "[3] https://arrobanoticias.mx/2017/muy-interesante/item/11265-imss-recomienda-conocer-el-tipo-sanguineo-como-prevencion-ante-una-emergencia\n",
        "\n",
        "[4] https://kidshealth.org/NAPNAP/es/parents/rh.html"
      ],
      "metadata": {
        "id": "nZjlyRRXAZbE"
      }
    }
  ]
}